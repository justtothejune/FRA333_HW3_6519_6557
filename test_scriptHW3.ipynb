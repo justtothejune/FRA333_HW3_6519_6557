{
 "cells": [
  {
   "cell_type": "code",
   "execution_count": 39,
   "metadata": {},
   "outputs": [],
   "source": [
    "import roboticstoolbox as rtb\n",
    "import numpy as np\n",
    "\n",
    "from spatialmath import SE3\n",
    "from math import pi\n",
    "\n",
    "from HW3_utils import *\n",
    "from FRA333_HW3_6519_6557 import *"
   ]
  },
  {
   "cell_type": "markdown",
   "metadata": {},
   "source": [
    "คำถามข้อที่ 1"
   ]
  },
  {
   "cell_type": "code",
   "execution_count": 45,
   "metadata": {},
   "outputs": [
    {
     "name": "stdout",
     "output_type": "stream",
     "text": [
      "DHRobot: RobotHW3, 3 joints (RRR), dynamics, modified DH parameters\n",
      "┌────────┬───────┬────────────┬────────┐\n",
      "│  aⱼ₋₁  │ ⍺ⱼ₋₁  │     θⱼ     │   dⱼ   │\n",
      "├────────┼───────┼────────────┼────────┤\n",
      "│    0.0 │  0.0° │  q1 + 180° │ 0.0892 │\n",
      "│    0.0 │ 90.0° │         q2 │    0.0 │\n",
      "│ -0.425 │  0.0° │         q3 │    0.0 │\n",
      "└────────┴───────┴────────────┴────────┘\n",
      "\n",
      "┌──────┬─────────────────────────────────────────────────┐\n",
      "│ tool │ t = -0.47, -0.093, 0.11; rpy/xyz = 0°, -90°, 0° │\n",
      "└──────┴─────────────────────────────────────────────────┘\n",
      "\n",
      "Jacobian from proof\n",
      " [[ 0.118256  0.066145 -0.103319]\n",
      " [ 0.06908  -0.008086  0.01263 ]\n",
      " [-0.        0.08292   0.472121]\n",
      " [-0.       -0.121344 -0.121344]\n",
      " [-0.       -0.992611 -0.992611]\n",
      " [ 1.        0.        0.      ]]\n",
      "-----------------------------------\n",
      "Jacobian from original\n",
      " [[ 0.118256  0.066145 -0.103319]\n",
      " [ 0.06908  -0.008086  0.01263 ]\n",
      " [-0.        0.08292   0.472121]\n",
      " [ 0.       -0.121344 -0.121344]\n",
      " [ 0.       -0.992611 -0.992611]\n",
      " [ 1.        0.        0.      ]]\n"
     ]
    }
   ],
   "source": [
    "d1,a2, = 0.0892,-0.425\n",
    "T_3_e = SE3(-0.39243,-0.093,0.109)*SE3(- 0.082,0,0)*SE3.RPY(0,-pi/2,0)\n",
    "robot = rtb.DHRobot(\n",
    "    [\n",
    "        rtb.RevoluteMDH(d = d1, offset=pi),\n",
    "        rtb.RevoluteMDH(alpha=pi/2),\n",
    "        rtb.RevoluteMDH(a= a2)\n",
    "    ],\n",
    "    tool = T_3_e,\n",
    "    name = \"RobotHW3\"\n",
    "    )\n",
    "print(robot)\n",
    "\n",
    "q = np.random.rand(3)*np.pi\n",
    "# q = [0, 0, 0]\n",
    "J = robot.jacob0(q)\n",
    "print(f\"Jacobian from proof\\n {J.round(6)}\")\n",
    "print(\"-----------------------------------\")\n",
    "J_e = endEffectorJacobianHW3(q)\n",
    "print(f\"Jacobian from original\\n {J_e.round(6)}\")\n",
    "\n",
    "# R,P,R_e,p_e = FKHW3(q)\n",
    "# print(f\"Position = {p_e}\")\n",
    "# print(f\"Orientation =\\n {R_e}\")\n",
    "# print(robot.fkine(q))"
   ]
  },
  {
   "cell_type": "markdown",
   "metadata": {},
   "source": [
    "คำถามข้อที่ 2\n"
   ]
  },
  {
   "cell_type": "code",
   "execution_count": 55,
   "metadata": {},
   "outputs": [
    {
     "name": "stdout",
     "output_type": "stream",
     "text": [
      "Determinant for proving : -0.1324448284553497\n",
      "ผลลัพธ์ที่ได้จาก Robotics toolbox : False\n",
      "ผลลัพธ์ที่ได้จากที่คำนวณ : False\n",
      "ผลลัพธ์ทั้งสองมีค่าตรงกัน : True\n"
     ]
    }
   ],
   "source": [
    "q = np.random.rand(3)*np.pi\n",
    "# Check singularity from robotics toolbox\n",
    "J = robot.jacob0(q)\n",
    "submatrix_J = J[0:3,:]\n",
    "determinant = np.linalg.det(submatrix_J)\n",
    "prove_singular = abs(determinant) < 0.001\n",
    "print(f\"Determinant for proving : {determinant}\")\n",
    "print(f\"ผลลัพธ์ที่ได้จาก Robotics toolbox : {prove_singular}\")\n",
    "\n",
    "\n",
    "\n",
    "#Check from original\n",
    "prove_original = checkSingularityHW3(q)\n",
    "print(f\"ผลลัพธ์ที่ได้จากที่คำนวณ : {bool(prove_original)}\")\n",
    "\n",
    "#Compare prove_singular and prove_original is it the same\n",
    "if (prove_original == prove_singular):\n",
    "    print(f\"ผลลัพธ์ทั้งสองมีค่าตรงกัน : {True}\")\n",
    "else :\n",
    "    print (False)\n",
    "\n"
   ]
  },
  {
   "cell_type": "code",
   "execution_count": null,
   "metadata": {},
   "outputs": [],
   "source": []
  }
 ],
 "metadata": {
  "kernelspec": {
   "display_name": "Python 3",
   "language": "python",
   "name": "python3"
  },
  "language_info": {
   "codemirror_mode": {
    "name": "ipython",
    "version": 3
   },
   "file_extension": ".py",
   "mimetype": "text/x-python",
   "name": "python",
   "nbconvert_exporter": "python",
   "pygments_lexer": "ipython3",
   "version": "3.12.5"
  }
 },
 "nbformat": 4,
 "nbformat_minor": 2
}
