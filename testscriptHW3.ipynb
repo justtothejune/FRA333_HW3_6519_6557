{
 "cells": [
  {
   "cell_type": "code",
   "execution_count": null,
   "metadata": {},
   "outputs": [],
   "source": [
    "# file สำหรับตรวจคำตอบ\n",
    "# ในกรณีที่มีการสร้าง function อื่น ๆ ให้ระบุว่า input-output คืออะไรด้วย\n",
    "'''\n",
    "ชื่อ_รหัส(ex: ธนวัฒน์_6461)\n",
    "1. ณพวิทย์ 6519\n",
    "2. อนัญญา 6557\n",
    "3.\n",
    "'''"
   ]
  },
  {
   "cell_type": "markdown",
   "metadata": {},
   "source": [
    "### Import Library"
   ]
  },
  {
   "cell_type": "code",
   "execution_count": 2,
   "metadata": {},
   "outputs": [],
   "source": [
    "import roboticstoolbox as rtb\n",
    "import numpy as np\n",
    "\n",
    "from spatialmath import SE3\n",
    "from math import pi\n",
    "\n",
    "from HW3_utils import *\n",
    "from FRA333_HW3_6519_6557 import *"
   ]
  },
  {
   "cell_type": "markdown",
   "metadata": {},
   "source": [
    "### Question 1"
   ]
  },
  {
   "cell_type": "code",
   "execution_count": 3,
   "metadata": {},
   "outputs": [],
   "source": [
    "#define link length\n",
    "d1,a2, = 0.0892,-0.425\n",
    "\n",
    "T_3_e = SE3(-0.39243,-0.093,0.109)*SE3(- 0.082,0,0)*SE3.RPY(0,-pi/2,0)"
   ]
  },
  {
   "cell_type": "code",
   "execution_count": 4,
   "metadata": {},
   "outputs": [
    {
     "name": "stdout",
     "output_type": "stream",
     "text": [
      "DHRobot: RobotHW3, 3 joints (RRR), dynamics, modified DH parameters\n",
      "┌────────┬───────┬────────────┬────────┐\n",
      "│  aⱼ₋₁  │ ⍺ⱼ₋₁  │     θⱼ     │   dⱼ   │\n",
      "├────────┼───────┼────────────┼────────┤\n",
      "│    0.0 │  0.0° │  q1 + 180° │ 0.0892 │\n",
      "│    0.0 │ 90.0° │         q2 │    0.0 │\n",
      "│ -0.425 │  0.0° │         q3 │    0.0 │\n",
      "└────────┴───────┴────────────┴────────┘\n",
      "\n",
      "┌──────┬─────────────────────────────────────────────────┐\n",
      "│ tool │ t = -0.47, -0.093, 0.11; rpy/xyz = 0°, -90°, 0° │\n",
      "└──────┴─────────────────────────────────────────────────┘\n",
      "\n"
     ]
    }
   ],
   "source": [
    "# Find MDH Parameter using Robotics toolbox\n",
    "robot = rtb.DHRobot(\n",
    "    [\n",
    "        rtb.RevoluteMDH(d = d1, offset=pi),\n",
    "        rtb.RevoluteMDH(alpha=pi/2),\n",
    "        rtb.RevoluteMDH(a= a2)\n",
    "    ],\n",
    "    tool = T_3_e,\n",
    "    name = \"RobotHW3\"\n",
    "    )\n",
    "print(robot)"
   ]
  },
  {
   "cell_type": "markdown",
   "metadata": {},
   "source": [
    "### Question 1 Prove"
   ]
  },
  {
   "cell_type": "code",
   "execution_count": 5,
   "metadata": {},
   "outputs": [
    {
     "name": "stdout",
     "output_type": "stream",
     "text": [
      "Random q is : [2.67977573 2.85832378 0.73394284]\n",
      "Jacobian from calculate\n",
      " [[ 0.451642 -0.153604 -0.259946]\n",
      " [ 0.662806  0.076451  0.129379]\n",
      " [-0.        0.794614  0.386552]\n",
      " [ 0.       -0.445575 -0.445575]\n",
      " [ 0.       -0.895244 -0.895244]\n",
      " [ 1.        0.        0.      ]]\n",
      "-----------------------------------\n",
      "Jacobian from prove\n",
      " [[ 0.451642 -0.153604 -0.259946]\n",
      " [ 0.662806  0.076451  0.129379]\n",
      " [ 0.        0.794614  0.386552]\n",
      " [-0.       -0.445575 -0.445575]\n",
      " [-0.       -0.895244 -0.895244]\n",
      " [ 1.        0.        0.      ]]\n"
     ]
    }
   ],
   "source": [
    "# Random q\n",
    "q = np.random.rand(3)*np.pi\n",
    "print(f\"Random q is : {q}\")\n",
    "# take jacobian fron the matrix above\n",
    "J = robot.jacob0(q)\n",
    "\n",
    "# Print it and compare with Jacobian matrix that you calculate \n",
    "J_e = endEffectorJacobianHW3(q)\n",
    "print(f\"Jacobian from calculate\\n {J_e.round(6)}\")\n",
    "print(\"-----------------------------------\")\n",
    "print(f\"Jacobian from prove\\n {J.round(6)}\")\n",
    "\n",
    "\n",
    "\n",
    "\n",
    "# R,P,R_e,p_e = FKHW3(q)\n",
    "# print(f\"Position = {p_e}\")\n",
    "# print(f\"Orientation =\\n {R_e}\")\n",
    "# print(robot.fkine(q))"
   ]
  },
  {
   "cell_type": "markdown",
   "metadata": {},
   "source": [
    "### Question 2 Prove"
   ]
  },
  {
   "cell_type": "code",
   "execution_count": 6,
   "metadata": {},
   "outputs": [
    {
     "name": "stdout",
     "output_type": "stream",
     "text": [
      "Random q : [0.0365338  1.99253007 1.29476752]\n",
      "Determinant for proving : -0.1289799454870287\n",
      "ผลลัพธ์ที่ได้จาก Robotics toolbox : False\n",
      "ผลลัพธ์ที่ได้จากที่คำนวณ : False\n",
      "ผลลัพธ์ทั้งสองมีค่าตรงกัน : True\n"
     ]
    }
   ],
   "source": [
    "# Random Q\n",
    "q = np.random.rand(3)*np.pi\n",
    "print(f\"Random q : {q}\")\n",
    "# Check singularity from robotics toolbox\n",
    "J = robot.jacob0(q)\n",
    "# Get only 3x3 matrix determinant used only squared matrix\n",
    "submatrix_J = J[0:3,:]\n",
    "# Find determinant\n",
    "determinant = np.linalg.det(submatrix_J)\n",
    "prove_singular = abs(determinant) < 0.001\n",
    "print(f\"Determinant for proving : {determinant}\")\n",
    "print(f\"ผลลัพธ์ที่ได้จาก Robotics toolbox : {prove_singular}\")\n",
    "\n",
    "\n",
    "#Check from calculate\n",
    "prove_calculate = checkSingularityHW3(q)\n",
    "print(f\"ผลลัพธ์ที่ได้จากที่คำนวณ : {bool(prove_calculate)}\")\n",
    "\n",
    "#Compare prove_singular and prove_original is it the same\n",
    "if (prove_calculate == prove_singular):\n",
    "    print(f\"ผลลัพธ์ทั้งสองมีค่าตรงกัน : {True}\")\n",
    "else :\n",
    "    print (False)\n",
    "\n"
   ]
  },
  {
   "cell_type": "markdown",
   "metadata": {},
   "source": [
    "### Question 3 Prove\n"
   ]
  },
  {
   "cell_type": "code",
   "execution_count": 11,
   "metadata": {},
   "outputs": [
    {
     "name": "stdout",
     "output_type": "stream",
     "text": [
      "Random q is [0.77665725 2.63697076 1.89892279]\n",
      "------------------------------------------------------\n",
      "Calculate effort is [1.193543 2.768885 2.109066]\n",
      "RTB effort is [1.193543 2.768887 2.109068]\n",
      "The answer is the same\n"
     ]
    }
   ],
   "source": [
    "def proofeffort(q:list[float], w:list[float])->list[float] :\n",
    "    \n",
    "    # Get a tau from function computeEffortHW3(q,w)\n",
    "    calculate_tau = computeEffortHW3(q,w)\n",
    "    print(f\"Calculate effort is {calculate_tau.round(6)}\")\n",
    "\n",
    "    # do a jacobian matrix using robotics toolbox\n",
    "    J = robot.jacob0(q)\n",
    "    subJ_T = np.transpose(J)\n",
    "    tau_rtb = np.dot(subJ_T,w)\n",
    "    print(f\"RTB effort is {tau_rtb.flatten().round(6)}\")\n",
    "    # Compare 2 answer is it the same\n",
    "    if np.allclose(tau_rtb,calculate_tau):\n",
    "        return \"The answer is the same\"\n",
    "    else :\n",
    "        return \"Wrong!\"\n",
    "\n",
    "# Random q and w\n",
    "q = np.random.rand(3)*np.pi\n",
    "w = np.random.uniform(0,np.pi, size = 6)\n",
    "print (f\"Random q is {q}\")\n",
    "print(\"------------------------------------------------------\")\n",
    "print(proofeffort(q,w))\n"
   ]
  }
 ],
 "metadata": {
  "kernelspec": {
   "display_name": "Python 3",
   "language": "python",
   "name": "python3"
  },
  "language_info": {
   "codemirror_mode": {
    "name": "ipython",
    "version": 3
   },
   "file_extension": ".py",
   "mimetype": "text/x-python",
   "name": "python",
   "nbconvert_exporter": "python",
   "pygments_lexer": "ipython3",
   "version": "3.12.5"
  }
 },
 "nbformat": 4,
 "nbformat_minor": 2
}
